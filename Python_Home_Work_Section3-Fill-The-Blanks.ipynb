{
 "cells": [
  {
   "cell_type": "code",
   "execution_count": 82,
   "metadata": {},
   "outputs": [],
   "source": [
    "#Data \n",
    "revenue = [14574.49, 7606.46, 8611.41, 9175.41, 8058.65, 8105.44, 11496.28, 9766.09, 10305.32, 14379.96, 10713.97, 15433.50]\n",
    "expenses = [12051.82, 5695.07, 12319.20, 12089.72, 8658.57, 840.20, 3285.73, 5821.12, 6976.93, 16618.61, 10054.37, 3803.96]"
   ]
  },
  {
   "cell_type": "code",
   "execution_count": 83,
   "metadata": {},
   "outputs": [],
   "source": [
    "import numpy as np"
   ]
  },
  {
   "cell_type": "code",
   "execution_count": 84,
   "metadata": {},
   "outputs": [
    {
     "data": {
      "text/plain": [
       "array([12051.82,  5695.07, 12319.2 , 12089.72,  8658.57,   840.2 ,\n",
       "        3285.73,  5821.12,  6976.93, 16618.61, 10054.37,  3803.96])"
      ]
     },
     "execution_count": 84,
     "metadata": {},
     "output_type": "execute_result"
    }
   ],
   "source": [
    "np.asarray(revenue)\n",
    "np.asarray(expenses)"
   ]
  },
  {
   "cell_type": "code",
   "execution_count": 85,
   "metadata": {},
   "outputs": [],
   "source": [
    "#Solution\n",
    "#Calculate Profit As The Differences Between Revenue And Expenses\n",
    "profit = np.subtract(revenue,expenses)"
   ]
  },
  {
   "cell_type": "code",
   "execution_count": 86,
   "metadata": {},
   "outputs": [
    {
     "data": {
      "text/plain": [
       "array([ 2522.67,  1911.39, -3707.79, -2914.31,  -599.92,  7265.24,\n",
       "        8210.55,  3944.97,  3328.39, -2238.65,   659.6 , 11629.54])"
      ]
     },
     "execution_count": 86,
     "metadata": {},
     "output_type": "execute_result"
    }
   ],
   "source": [
    "profit"
   ]
  },
  {
   "cell_type": "code",
   "execution_count": 87,
   "metadata": {},
   "outputs": [],
   "source": [
    "#Calculate Tax As 30% Of Profit And Round To 2 Decimal Points\n",
    "tax = profit*0.3"
   ]
  },
  {
   "cell_type": "code",
   "execution_count": 88,
   "metadata": {},
   "outputs": [
    {
     "data": {
      "text/plain": [
       "array([  756.801,   573.417, -1112.337,  -874.293,  -179.976,  2179.572,\n",
       "        2463.165,  1183.491,   998.517,  -671.595,   197.88 ,  3488.862])"
      ]
     },
     "execution_count": 88,
     "metadata": {},
     "output_type": "execute_result"
    }
   ],
   "source": [
    "tax"
   ]
  },
  {
   "cell_type": "code",
   "execution_count": 89,
   "metadata": {},
   "outputs": [
    {
     "data": {
      "text/plain": [
       "array([ 1765.869,  1337.973, -2595.453, -2040.017,  -419.944,  5085.668,\n",
       "        5747.385,  2761.479,  2329.873, -1567.055,   461.72 ,  8140.678])"
      ]
     },
     "execution_count": 89,
     "metadata": {},
     "output_type": "execute_result"
    }
   ],
   "source": [
    "profitwithouttax = np.subtract(profit,tax)\n",
    "profitwithouttax"
   ]
  },
  {
   "cell_type": "code",
   "execution_count": 90,
   "metadata": {},
   "outputs": [],
   "source": [
    "profitwhitouttax=np.round(profitwithouttax,2)"
   ]
  },
  {
   "cell_type": "code",
   "execution_count": 91,
   "metadata": {},
   "outputs": [
    {
     "data": {
      "text/plain": [
       "array([ 2522.67,  1911.39, -3707.79, -2914.31,  -599.92,  7265.24,\n",
       "        8210.55,  3944.97,  3328.39, -2238.65,   659.6 , 11629.54])"
      ]
     },
     "execution_count": 91,
     "metadata": {},
     "output_type": "execute_result"
    }
   ],
   "source": [
    "profit"
   ]
  },
  {
   "cell_type": "code",
   "execution_count": 92,
   "metadata": {},
   "outputs": [
    {
     "data": {
      "text/plain": [
       "array([ 0.12116163,  0.17589956, -0.30139698, -0.22233524, -0.05211096,\n",
       "        0.62743886,  0.49993433,  0.28276199,  0.22608449, -0.10897492,\n",
       "        0.04309514,  0.52746804])"
      ]
     },
     "execution_count": 92,
     "metadata": {},
     "output_type": "execute_result"
    }
   ],
   "source": [
    "#Calculate The Profit Margin As Profit After Tax Over Revenue\n",
    "#Round To 2 Decimal Points, Then Multiply By 100 To Get %\n",
    "profit_margin = profitwithouttax/revenue\n",
    "profit_margin"
   ]
  },
  {
   "cell_type": "code",
   "execution_count": 93,
   "metadata": {},
   "outputs": [
    {
     "data": {
      "text/plain": [
       "array([ 12.,  18., -30., -22.,  -5.,  63.,  50.,  28.,  23., -11.,   4.,\n",
       "        53.])"
      ]
     },
     "execution_count": 93,
     "metadata": {},
     "output_type": "execute_result"
    }
   ],
   "source": [
    "profit_margin = profit_margin * 100\n",
    "profit_margin.round()"
   ]
  },
  {
   "cell_type": "code",
   "execution_count": 94,
   "metadata": {},
   "outputs": [
    {
     "data": {
      "text/plain": [
       "2500.9733333333334"
      ]
     },
     "execution_count": 94,
     "metadata": {},
     "output_type": "execute_result"
    }
   ],
   "source": [
    "#Calculate The Mean Profit After Tax For The 12 Months\n",
    "mean_pat = sum(profit)/len(profit)\n",
    "mean_pat"
   ]
  },
  {
   "cell_type": "code",
   "execution_count": 95,
   "metadata": {},
   "outputs": [
    {
     "data": {
      "text/plain": [
       "[True, True, False, False, False, True, True, True, True, False, True, True]"
      ]
     },
     "execution_count": 95,
     "metadata": {},
     "output_type": "execute_result"
    }
   ],
   "source": [
    "#Find The Months With Above-Mean Profit After Tax\n",
    "good_months = list([])\n",
    "for i in range (0, len(revenue)):\n",
    "    good_months.append(revenue[i] > expenses[i])\n",
    "good_months"
   ]
  },
  {
   "cell_type": "code",
   "execution_count": 96,
   "metadata": {},
   "outputs": [
    {
     "data": {
      "text/plain": [
       "[False,\n",
       " False,\n",
       " True,\n",
       " True,\n",
       " True,\n",
       " False,\n",
       " False,\n",
       " False,\n",
       " False,\n",
       " True,\n",
       " False,\n",
       " False]"
      ]
     },
     "execution_count": 96,
     "metadata": {},
     "output_type": "execute_result"
    }
   ],
   "source": [
    "#Bad Months Are The Opposite Of Good Months!\n",
    "bad_months = list([])\n",
    "for i in range (0, len(revenue)):\n",
    "    bad_months.append(not (good_months[i]))\n",
    "bad_months"
   ]
  },
  {
   "cell_type": "code",
   "execution_count": 97,
   "metadata": {},
   "outputs": [
    {
     "data": {
      "text/plain": [
       "[False,\n",
       " False,\n",
       " False,\n",
       " False,\n",
       " False,\n",
       " False,\n",
       " False,\n",
       " False,\n",
       " False,\n",
       " False,\n",
       " False,\n",
       " True]"
      ]
     },
     "execution_count": 97,
     "metadata": {},
     "output_type": "execute_result"
    }
   ],
   "source": [
    "#The Best Month Is Where Profit After Tax Was Equal To The Maximum\n",
    "best_month = list([])\n",
    "for i in range (0, len(revenue)):\n",
    "    best_month.append(profit[i] == max(profit))\n",
    "best_month"
   ]
  },
  {
   "cell_type": "code",
   "execution_count": 98,
   "metadata": {},
   "outputs": [
    {
     "data": {
      "text/plain": [
       "[False,\n",
       " False,\n",
       " True,\n",
       " False,\n",
       " False,\n",
       " False,\n",
       " False,\n",
       " False,\n",
       " False,\n",
       " False,\n",
       " False,\n",
       " False]"
      ]
     },
     "execution_count": 98,
     "metadata": {},
     "output_type": "execute_result"
    }
   ],
   "source": [
    "#The Worst Month Is Where Profit After Tax Was Equal To The Minimum\n",
    "worst_month = list([])\n",
    "for i in range (0, len(revenue)):\n",
    "    worst_month.append(profit[i] == min(profit))\n",
    "worst_month"
   ]
  },
  {
   "cell_type": "code",
   "execution_count": 99,
   "metadata": {},
   "outputs": [
    {
     "name": "stdout",
     "output_type": "stream",
     "text": [
      "Revenue :\n",
      "[15.  8.  9.  9.  8.  8. 11. 10. 10. 14. 11. 15.]\n"
     ]
    }
   ],
   "source": [
    "#Convert All Calculations To Units Of One Thousand Dollars and print them\n",
    "revenue = np.divide(revenue,1000)\n",
    "revenue = np.round(revenue)\n",
    "print (\"Revenue :\") \n",
    "print (revenue)"
   ]
  },
  {
   "cell_type": "code",
   "execution_count": null,
   "metadata": {},
   "outputs": [],
   "source": [
    "expenses_1000 = [round(_____, ___) for i in ______]\n",
    "profit_1000 = [round(_____, ___) for i in ______]\n",
    "profit_after_tax_1000 = [round(______, 0) for i in ______]\n",
    "\n",
    "revenue_1000 = [int(i) for i in ______]\n",
    "expenses_1000 = [int(i) for i in ______]\n",
    "profit_1000 = [int(i) for i in ______]\n",
    "profit_after_tax_1000 = [int(i) for i in ______]"
   ]
  },
  {
   "cell_type": "code",
   "execution_count": 100,
   "metadata": {},
   "outputs": [
    {
     "name": "stdout",
     "output_type": "stream",
     "text": [
      "Revenue from the  1  month is : 12.0\n",
      "Revenue from the  2  month is : 6.0\n",
      "Revenue from the  3  month is : 12.0\n",
      "Revenue from the  4  month is : 12.0\n",
      "Revenue from the  5  month is : 9.0\n",
      "Revenue from the  6  month is : 1.0\n",
      "Revenue from the  7  month is : 3.0\n",
      "Revenue from the  8  month is : 6.0\n",
      "Revenue from the  9  month is : 7.0\n",
      "Revenue from the  10  month is : 17.0\n",
      "Revenue from the  11  month is : 10.0\n",
      "Revenue from the  12  month is : 4.0\n"
     ]
    }
   ],
   "source": [
    "for i in range(0, len(expenses)):\n",
    "    b=i+1\n",
    "    expenses[i]=np.divide(expenses[i],1000)\n",
    "    expenses[i] = np.round(expenses[i])\n",
    "    print (\"Revenue from the \", b,\" month is :\", expenses[i])"
   ]
  },
  {
   "cell_type": "code",
   "execution_count": null,
   "metadata": {},
   "outputs": [],
   "source": [
    "for i in range(0,len(profit)):\n",
    "    profit[i]=np.divide(profit[i])\n",
    "    profit[i]=np.round(profit)\n",
    "print(\"Profit :\")\n",
    "print(profit)\n",
    "for i in range(0,len(profitwhithouttax)):\n",
    "    profitwhithouttax[i]=np.divide(profitwhithouttax[i])\n",
    "    profitwhithouttax[i]=np.round(profitwhithouttax)\n",
    "print(\"Profit without tax :\")\n",
    "print(profitwithouttax)\n",
    "for i in range(0,len(profitwhithouttax)):\n",
    "    profitwhithouttax[i]=np.divide(profitwhithouttax[i])\n",
    "    profitwhithouttax[i]=np.round(profitwhithouttax)\n",
    "print(\"Profit without tax :\")\n",
    "print(profitwithouttax)"
   ]
  },
  {
   "cell_type": "code",
   "execution_count": null,
   "metadata": {
    "collapsed": true
   },
   "outputs": [],
   "source": [
    "print (\"Profit margin :\")\n",
    "print (profit_margin)\n",
    "print (\"Good months :\")\n",
    "print (good_months)\n",
    "print (\"Bad months :\")\n",
    "print (bad_months)\n",
    "print (\"Best month :\")\n",
    "print (best_month)\n",
    "print (\"Worst month :\")\n",
    "print (worst_month)"
   ]
  }
 ],
 "metadata": {
  "anaconda-cloud": {},
  "kernelspec": {
   "display_name": "Python 3",
   "language": "python",
   "name": "python3"
  },
  "language_info": {
   "codemirror_mode": {
    "name": "ipython",
    "version": 3
   },
   "file_extension": ".py",
   "mimetype": "text/x-python",
   "name": "python",
   "nbconvert_exporter": "python",
   "pygments_lexer": "ipython3",
   "version": "3.6.4"
  }
 },
 "nbformat": 4,
 "nbformat_minor": 1
}
