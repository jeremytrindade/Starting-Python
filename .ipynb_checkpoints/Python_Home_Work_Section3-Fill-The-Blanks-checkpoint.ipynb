{
 "cells": [
  {
   "cell_type": "code",
   "execution_count": 131,
   "metadata": {},
   "outputs": [],
   "source": [
    "#Data \n",
    "revenue = [14574.49, 7606.46, 8611.41, 9175.41, 8058.65, 8105.44, 11496.28, 9766.09, 10305.32, 14379.96, 10713.97, 15433.50]\n",
    "expenses = [12051.82, 5695.07, 12319.20, 12089.72, 8658.57, 840.20, 3285.73, 5821.12, 6976.93, 16618.61, 10054.37, 3803.96]"
   ]
  },
  {
   "cell_type": "code",
   "execution_count": 132,
   "metadata": {},
   "outputs": [],
   "source": [
    "import numpy as np"
   ]
  },
  {
   "cell_type": "code",
   "execution_count": 133,
   "metadata": {},
   "outputs": [
    {
     "data": {
      "text/plain": [
       "array([12051.82,  5695.07, 12319.2 , 12089.72,  8658.57,   840.2 ,\n",
       "        3285.73,  5821.12,  6976.93, 16618.61, 10054.37,  3803.96])"
      ]
     },
     "execution_count": 133,
     "metadata": {},
     "output_type": "execute_result"
    }
   ],
   "source": [
    "np.asarray(revenue)\n",
    "np.asarray(expenses)"
   ]
  },
  {
   "cell_type": "code",
   "execution_count": 134,
   "metadata": {},
   "outputs": [],
   "source": [
    "#Solution\n",
    "#Calculate Profit As The Differences Between Revenue And Expenses\n",
    "profit = np.subtract(revenue,expenses)"
   ]
  },
  {
   "cell_type": "code",
   "execution_count": 135,
   "metadata": {},
   "outputs": [
    {
     "data": {
      "text/plain": [
       "array([ 2522.67,  1911.39, -3707.79, -2914.31,  -599.92,  7265.24,\n",
       "        8210.55,  3944.97,  3328.39, -2238.65,   659.6 , 11629.54])"
      ]
     },
     "execution_count": 135,
     "metadata": {},
     "output_type": "execute_result"
    }
   ],
   "source": [
    "profit"
   ]
  },
  {
   "cell_type": "code",
   "execution_count": 136,
   "metadata": {},
   "outputs": [],
   "source": [
    "#Calculate Tax As 30% Of Profit And Round To 2 Decimal Points\n",
    "tax = profit*0.3"
   ]
  },
  {
   "cell_type": "code",
   "execution_count": 137,
   "metadata": {},
   "outputs": [
    {
     "data": {
      "text/plain": [
       "array([  756.801,   573.417, -1112.337,  -874.293,  -179.976,  2179.572,\n",
       "        2463.165,  1183.491,   998.517,  -671.595,   197.88 ,  3488.862])"
      ]
     },
     "execution_count": 137,
     "metadata": {},
     "output_type": "execute_result"
    }
   ],
   "source": [
    "tax"
   ]
  },
  {
   "cell_type": "code",
   "execution_count": 138,
   "metadata": {},
   "outputs": [
    {
     "data": {
      "text/plain": [
       "array([ 1765.869,  1337.973, -2595.453, -2040.017,  -419.944,  5085.668,\n",
       "        5747.385,  2761.479,  2329.873, -1567.055,   461.72 ,  8140.678])"
      ]
     },
     "execution_count": 138,
     "metadata": {},
     "output_type": "execute_result"
    }
   ],
   "source": [
    "profitwithouttax = np.subtract(profit,tax)\n",
    "profitwithouttax"
   ]
  },
  {
   "cell_type": "code",
   "execution_count": 139,
   "metadata": {},
   "outputs": [],
   "source": [
    "profitwhithouttax=np.round(profitwithouttax,2)"
   ]
  },
  {
   "cell_type": "code",
   "execution_count": 140,
   "metadata": {},
   "outputs": [
    {
     "data": {
      "text/plain": [
       "array([ 1765.87,  1337.97, -2595.45, -2040.02,  -419.94,  5085.67,\n",
       "        5747.38,  2761.48,  2329.87, -1567.06,   461.72,  8140.68])"
      ]
     },
     "execution_count": 140,
     "metadata": {},
     "output_type": "execute_result"
    }
   ],
   "source": [
    "profitwhithouttax"
   ]
  },
  {
   "cell_type": "code",
   "execution_count": 141,
   "metadata": {},
   "outputs": [
    {
     "data": {
      "text/plain": [
       "array([ 0.12116163,  0.17589956, -0.30139698, -0.22233524, -0.05211096,\n",
       "        0.62743886,  0.49993433,  0.28276199,  0.22608449, -0.10897492,\n",
       "        0.04309514,  0.52746804])"
      ]
     },
     "execution_count": 141,
     "metadata": {},
     "output_type": "execute_result"
    }
   ],
   "source": [
    "#Calculate The Profit Margin As Profit After Tax Over Revenue\n",
    "#Round To 2 Decimal Points, Then Multiply By 100 To Get %\n",
    "profit_margin = profitwithouttax/revenue\n",
    "profit_margin"
   ]
  },
  {
   "cell_type": "code",
   "execution_count": 142,
   "metadata": {},
   "outputs": [
    {
     "data": {
      "text/plain": [
       "array([ 12.,  18., -30., -22.,  -5.,  63.,  50.,  28.,  23., -11.,   4.,\n",
       "        53.])"
      ]
     },
     "execution_count": 142,
     "metadata": {},
     "output_type": "execute_result"
    }
   ],
   "source": [
    "profit_margin = profit_margin * 100\n",
    "profit_margin.round()"
   ]
  },
  {
   "cell_type": "code",
   "execution_count": 143,
   "metadata": {},
   "outputs": [
    {
     "data": {
      "text/plain": [
       "2500.9733333333334"
      ]
     },
     "execution_count": 143,
     "metadata": {},
     "output_type": "execute_result"
    }
   ],
   "source": [
    "#Calculate The Mean Profit After Tax For The 12 Months\n",
    "mean_pat = sum(profit)/len(profit)\n",
    "mean_pat"
   ]
  },
  {
   "cell_type": "code",
   "execution_count": 144,
   "metadata": {},
   "outputs": [
    {
     "data": {
      "text/plain": [
       "[True, True, False, False, False, True, True, True, True, False, True, True]"
      ]
     },
     "execution_count": 144,
     "metadata": {},
     "output_type": "execute_result"
    }
   ],
   "source": [
    "#Find The Months With Above-Mean Profit After Tax\n",
    "good_months = list([])\n",
    "for i in range (0, len(revenue)):\n",
    "    good_months.append(revenue[i] > expenses[i])\n",
    "good_months"
   ]
  },
  {
   "cell_type": "code",
   "execution_count": 145,
   "metadata": {},
   "outputs": [
    {
     "data": {
      "text/plain": [
       "[False,\n",
       " False,\n",
       " True,\n",
       " True,\n",
       " True,\n",
       " False,\n",
       " False,\n",
       " False,\n",
       " False,\n",
       " True,\n",
       " False,\n",
       " False]"
      ]
     },
     "execution_count": 145,
     "metadata": {},
     "output_type": "execute_result"
    }
   ],
   "source": [
    "#Bad Months Are The Opposite Of Good Months!\n",
    "bad_months = list([])\n",
    "for i in range (0, len(revenue)):\n",
    "    bad_months.append(not (good_months[i]))\n",
    "bad_months"
   ]
  },
  {
   "cell_type": "code",
   "execution_count": 146,
   "metadata": {},
   "outputs": [
    {
     "data": {
      "text/plain": [
       "[False,\n",
       " False,\n",
       " False,\n",
       " False,\n",
       " False,\n",
       " False,\n",
       " False,\n",
       " False,\n",
       " False,\n",
       " False,\n",
       " False,\n",
       " True]"
      ]
     },
     "execution_count": 146,
     "metadata": {},
     "output_type": "execute_result"
    }
   ],
   "source": [
    "#The Best Month Is Where Profit After Tax Was Equal To The Maximum\n",
    "best_month = list([])\n",
    "for i in range (0, len(revenue)):\n",
    "    best_month.append(profit[i] == max(profit))\n",
    "best_month"
   ]
  },
  {
   "cell_type": "code",
   "execution_count": 147,
   "metadata": {},
   "outputs": [
    {
     "data": {
      "text/plain": [
       "[False,\n",
       " False,\n",
       " True,\n",
       " False,\n",
       " False,\n",
       " False,\n",
       " False,\n",
       " False,\n",
       " False,\n",
       " False,\n",
       " False,\n",
       " False]"
      ]
     },
     "execution_count": 147,
     "metadata": {},
     "output_type": "execute_result"
    }
   ],
   "source": [
    "#The Worst Month Is Where Profit After Tax Was Equal To The Minimum\n",
    "worst_month = list([])\n",
    "for i in range (0, len(revenue)):\n",
    "    worst_month.append(profit[i] == min(profit))\n",
    "worst_month"
   ]
  },
  {
   "cell_type": "code",
   "execution_count": 148,
   "metadata": {},
   "outputs": [
    {
     "name": "stdout",
     "output_type": "stream",
     "text": [
      "Revenue :\n",
      "[15.  8.  9.  9.  8.  8. 11. 10. 10. 14. 11. 15.]\n"
     ]
    }
   ],
   "source": [
    "#Convert All Calculations To Units Of One Thousand Dollars and print them\n",
    "revenue = np.divide(revenue,1000)\n",
    "revenue = np.round(revenue)\n",
    "print (\"Revenue :\") \n",
    "print (revenue)"
   ]
  },
  {
   "cell_type": "code",
   "execution_count": 150,
   "metadata": {},
   "outputs": [
    {
     "name": "stdout",
     "output_type": "stream",
     "text": [
      "Revenue from the  1  month is : 12.0\n",
      "Revenue from the  2  month is : 6.0\n",
      "Revenue from the  3  month is : 12.0\n",
      "Revenue from the  4  month is : 12.0\n",
      "Revenue from the  5  month is : 9.0\n",
      "Revenue from the  6  month is : 1.0\n",
      "Revenue from the  7  month is : 3.0\n",
      "Revenue from the  8  month is : 6.0\n",
      "Revenue from the  9  month is : 7.0\n",
      "Revenue from the  10  month is : 17.0\n",
      "Revenue from the  11  month is : 10.0\n",
      "Revenue from the  12  month is : 4.0\n"
     ]
    }
   ],
   "source": [
    "for i in range(0, len(expenses)):\n",
    "    b=i+1\n",
    "    expenses[i]=np.divide(expenses[i],1000)\n",
    "    expenses[i] = np.round(expenses[i])\n",
    "    print (\"Revenue from the \", b,\" month is :\", expenses[i])"
   ]
  },
  {
   "cell_type": "code",
   "execution_count": 151,
   "metadata": {},
   "outputs": [
    {
     "name": "stdout",
     "output_type": "stream",
     "text": [
      "Profit :\n",
      "[ 3.  2. -4. -3. -1.  7.  8.  4.  3. -2.  1. 12.]\n"
     ]
    }
   ],
   "source": [
    "for i in range(0, len(profit)):\n",
    "    profit[i]=np.divide(profit[i],1000)\n",
    "    profit[i]=np.round(profit[i])\n",
    "print(\"Profit :\")\n",
    "print(profit)\n"
   ]
  },
  {
   "cell_type": "code",
   "execution_count": 153,
   "metadata": {},
   "outputs": [
    {
     "name": "stdout",
     "output_type": "stream",
     "text": [
      "Profit without tax :\n",
      "[ 1765.869  1337.973 -2595.453 -2040.017  -419.944  5085.668  5747.385\n",
      "  2761.479  2329.873 -1567.055   461.72   8140.678]\n"
     ]
    }
   ],
   "source": [
    "for i in range(0, len(profitwhithouttax)):\n",
    "    profitwhithouttax[i]=np.divide(profitwhithouttax[i],1000)\n",
    "    profitwhithouttax[i]=np.round(profitwhithouttax[i])\n",
    "print(\"Profit without tax :\")\n",
    "print(profitwithouttax)"
   ]
  },
  {
   "cell_type": "code",
   "execution_count": 159,
   "metadata": {},
   "outputs": [
    {
     "name": "stdout",
     "output_type": "stream",
     "text": [
      "On the  1  month was good we maked: 2.0\n",
      "On the  2  month was good we maked: 1.0\n",
      "On the  3  month was bad we maked: -3.0\n",
      "On the  4  month was bad we maked: -2.0\n",
      "On the  5  month was bad we maked: -0.0\n",
      "On the  6  month was good we maked: 5.0\n",
      "On the  7  month was good we maked: 6.0\n",
      "On the  8  month was good we maked: 3.0\n",
      "On the  9  month was good we maked: 2.0\n",
      "On the  10  month was bad we maked: -2.0\n",
      "On the  11  month was good we maked: 0.0\n",
      "On the  12  month was good we maked: 8.0\n"
     ]
    }
   ],
   "source": [
    "# here we are going to say the month and the value\n",
    "for i in range(0,len(good_months)):\n",
    "    position = i+1;\n",
    "    if good_months[i]:# for good month\n",
    "        print(\"On the \",position,\" month was good we maked:\", profitwhithouttax[i])\n",
    "    else:# for bad month\n",
    "        print(\"On the \",position,\" month was bad we maked:\", profitwhithouttax[i])\n"
   ]
  },
  {
   "cell_type": "code",
   "execution_count": 163,
   "metadata": {},
   "outputs": [
    {
     "name": "stdout",
     "output_type": "stream",
     "text": [
      "The best month was the  12  and we maked: 8.0\n"
     ]
    }
   ],
   "source": [
    "for i in range(0,len(best_month)):\n",
    "    position = i+1;\n",
    "    if best_month[i]:\n",
    "        print(\"The best month was the \",position,\" and we maked:\", profitwhithouttax[i])\n"
   ]
  },
  {
   "cell_type": "code",
   "execution_count": 166,
   "metadata": {},
   "outputs": [
    {
     "name": "stdout",
     "output_type": "stream",
     "text": [
      "The worst month was the  3  and we maked: -3.0\n"
     ]
    }
   ],
   "source": [
    "for i in range(0,len(worst_month)):\n",
    "    position = i+1;\n",
    "    if worst_month[i]:\n",
    "        print(\"The worst month was the \",position,\" and we maked:\", profitwhithouttax[i])"
   ]
  }
 ],
 "metadata": {
  "anaconda-cloud": {},
  "kernelspec": {
   "display_name": "Python 3",
   "language": "python",
   "name": "python3"
  },
  "language_info": {
   "codemirror_mode": {
    "name": "ipython",
    "version": 3
   },
   "file_extension": ".py",
   "mimetype": "text/x-python",
   "name": "python",
   "nbconvert_exporter": "python",
   "pygments_lexer": "ipython3",
   "version": "3.6.4"
  }
 },
 "nbformat": 4,
 "nbformat_minor": 1
}
